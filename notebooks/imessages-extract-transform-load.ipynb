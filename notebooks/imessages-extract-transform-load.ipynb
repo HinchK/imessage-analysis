{
 "cells": [
  {
   "cell_type": "code",
   "execution_count": 1,
   "id": "0f8d88a1-1fac-4667-a8b7-52ceaddc3fab",
   "metadata": {},
   "outputs": [],
   "source": [
    "import sqlite3\n",
    "import pandas as pd\n",
    "from datetime import datetime\n",
    "from datetime import date\n",
    "import matplotlib.pyplot as plt\n",
    "%matplotlib inline\n",
    "\n",
    "import importlib\n",
    "import sys\n",
    "sys.path.append('../src/')\n",
    "import helper as hp"
   ]
  },
  {
   "cell_type": "markdown",
   "id": "a39303b7-8e0b-41d4-8e48-7b72157277b1",
   "metadata": {},
   "source": [
    "Version 3\n",
    "April 2024"
   ]
  },
  {
   "cell_type": "markdown",
   "id": "9760fecf-f5a4-430d-9f4f-740a2c708a00",
   "metadata": {},
   "source": [
    "# 1. Connect to the database and load the data tables"
   ]
  },
  {
   "cell_type": "code",
   "execution_count": 4,
   "id": "24440f80-308e-4a77-b81a-94266f74c10b",
   "metadata": {},
   "outputs": [
    {
     "name": "stdout",
     "output_type": "stream",
     "text": [
      "('_SqliteDatabaseProperties',)\n",
      "('chat_message_join',)\n",
      "('deleted_messages',)\n",
      "('sqlite_sequence',)\n",
      "('chat_recoverable_message_join',)\n",
      "('handle',)\n",
      "('sync_deleted_chats',)\n",
      "('kvtable',)\n",
      "('sync_deleted_attachments',)\n",
      "('sync_deleted_messages',)\n",
      "('unsynced_removed_recoverable_messages',)\n",
      "('recoverable_message_part',)\n",
      "('chat_handle_join',)\n",
      "('message_attachment_join',)\n",
      "('message_processing_task',)\n",
      "('message',)\n",
      "('chat',)\n",
      "('attachment',)\n",
      "('sqlite_stat1',)\n"
     ]
    }
   ],
   "source": [
    "# find your chat.db and establish a connection\n",
    "conn = sqlite3.connect('/Users/<YOUR MAC USERNAME>/Library/Messages/chat.db')\n",
    "cur = conn.cursor()\n",
    "\n",
    "# query the database to get all the table names\n",
    "cur.execute(\" select name from sqlite_master where type = 'table' \")\n",
    "\n",
    "# you can see all the tables included in the database here.\n",
    "for name in cur.fetchall():\n",
    "    print(name)"
   ]
  },
  {
   "cell_type": "markdown",
   "id": "cfcf8897-27a9-4e05-919a-86a37b667f6b",
   "metadata": {},
   "source": [
    "# 2. Query and Load the data tables we need"
   ]
  },
  {
   "cell_type": "code",
   "execution_count": 8,
   "id": "4f42c4cc-3b55-426a-8fff-6062f4150b95",
   "metadata": {},
   "outputs": [],
   "source": [
    "# create pandas dataframes with the tables we need. \n",
    "\n",
    "## Mac OSX versions below High Sierra\n",
    "#messages = pd.read_sql_query('''select *, datetime(date + strftime(\"%s\", \"2001-01-01\") ,\"unixepoch\",\"localtime\")  as date_utc from message''', conn) \n",
    "\n",
    "## High Sierra and above\n",
    "# this is the table with all the messages.\n",
    "messages = pd.read_sql_query('''select *, datetime(date/1000000000 + strftime(\"%s\", \"2001-01-01\") ,\"unixepoch\",\"localtime\")  as date_utc from message ORDER BY date DESC''', conn) \n",
    "\n",
    "# handles and contact info\n",
    "handles = pd.read_sql_query(\"select * from handle\", conn)\n",
    "\n",
    "# table mapping each message_id to its chat_id\n",
    "chat_message_joins = pd.read_sql_query(\"select * from chat_message_join\", conn)\n",
    "\n",
    "# table mapping each chat_id to the handles that are part of that chat.\n",
    "chat_handle_join = pd.read_sql_query(\"select * from chat_handle_join\", conn)"
   ]
  },
  {
   "cell_type": "code",
   "execution_count": 9,
   "id": "f1f9cd04-9d35-4f29-9421-d98e5a2aad77",
   "metadata": {},
   "outputs": [],
   "source": [
    "# renaming some fields for better code readability\n",
    "messages.rename(columns={'ROWID':'message_id'}, inplace=True)\n",
    "handles.rename(columns = {'ROWID' : 'handle_id'}, inplace=True)\n",
    "handles.rename(columns = {'id' : 'contact_info'}, inplace=True)"
   ]
  },
  {
   "cell_type": "markdown",
   "id": "9a3702e6-a69a-40ae-8c8c-01236f34359c",
   "metadata": {},
   "source": [
    "# 3. Edit and add information to the datasets"
   ]
  },
  {
   "cell_type": "code",
   "execution_count": 10,
   "id": "2ec58840-4d5c-49d4-b89d-897b23fb2357",
   "metadata": {},
   "outputs": [],
   "source": [
    "# add the chat_id for each message_id\n",
    "messages = pd.merge(messages, chat_message_joins, how='left', on='message_id')"
   ]
  },
  {
   "cell_type": "code",
   "execution_count": 11,
   "id": "9ef8fb38-141a-4668-9258-fbd203c3ec6d",
   "metadata": {},
   "outputs": [],
   "source": [
    "# some messages have empty text field. I do my best and infer the text sent from a different field in the data.\n",
    "messages['inferred_text'] = messages['attributedBody'].apply(lambda x: hp.clean_text(x))"
   ]
  },
  {
   "cell_type": "markdown",
   "id": "4e8309ce-5d2a-4d6d-b9f2-60394a52b2de",
   "metadata": {},
   "source": [
    "#### This following step will take 3-5 minutes"
   ]
  },
  {
   "cell_type": "code",
   "execution_count": 13,
   "id": "ef8dd425-50b8-47b9-b681-355f058fdd19",
   "metadata": {},
   "outputs": [],
   "source": [
    "handle_lists = []\n",
    "contact_lists = []\n",
    "\n",
    "for i in range(len(messages)):\n",
    "    chat_id = messages.iloc[i]['chat_id']\n",
    "    handle_list, contact_list = hp.get_handle_and_contact_list(chat_id, chat_handle_join, handles)\n",
    "    handle_lists.append(handle_list)\n",
    "    contact_lists.append(contact_list)\n",
    "    \n",
    "# for each message, get the handle_ids that were part of that chat\n",
    "messages['chat_members_handles'] = handle_lists\n",
    "\n",
    "# same thing as above, but get the actual contact info (phone number or email) instead of just the handle_id\n",
    "messages['chat_members_contact_info'] = contact_lists\n"
   ]
  },
  {
   "cell_type": "code",
   "execution_count": 18,
   "id": "80e8eb5e-e83f-4165-baaf-a2a3374fe61d",
   "metadata": {},
   "outputs": [],
   "source": [
    "# create a field with the chat size of each message. This is mostly for analytics purporses\n",
    "messages['chat_size'] = messages['chat_members_handles'].apply(lambda x: hp.get_chat_size(x))"
   ]
  },
  {
   "cell_type": "code",
   "execution_count": 19,
   "id": "35cd4231-5e22-4183-a669-55ec1ebb2429",
   "metadata": {},
   "outputs": [],
   "source": [
    "# get the contact info for the handle_id column, i.e., who sent or received the message.\n",
    "messages['contact_info'] = messages['handle_id'].apply(lambda x: hp.convert_handle_id_to_contact_info(x, handles))"
   ]
  },
  {
   "cell_type": "code",
   "execution_count": 20,
   "id": "ba16e5ff-d53e-468f-a43f-1841095255ce",
   "metadata": {},
   "outputs": [],
   "source": [
    "# grab only the columns we need, for easier exploration and readability of the dataset.\n",
    "\n",
    "columns = ['message_id', 'is_from_me', 'text',  'inferred_text', 'date_utc', 'handle_id', 'contact_info','chat_id', \n",
    "          'chat_members_contact_info', 'chat_size', 'chat_members_handles',\n",
    "           'attributedBody']\n",
    "df_messages_trimmed = messages[columns].copy()"
   ]
  },
  {
   "cell_type": "code",
   "execution_count": null,
   "id": "22477287-22e1-4e01-bcf1-3a202708859d",
   "metadata": {},
   "outputs": [],
   "source": [
    "# quick look at the dataframe\n",
    "df_messages_trimmed.head(2)"
   ]
  },
  {
   "cell_type": "markdown",
   "id": "ca17e128-b6c8-4353-b092-b5d98d0bee2e",
   "metadata": {},
   "source": [
    "# 4. One last fix for sent messages: Fix the field with the recipient of the message."
   ]
  },
  {
   "cell_type": "markdown",
   "id": "fd8b4436-191c-4b0b-9a83-6faa675188b6",
   "metadata": {},
   "source": [
    "When the handle_id = 0 if the chat type is 1-1, then assign the contact info that we got from message_id -> chat_id -> handle_id -> contact_info into the contact_info.\n",
    "\n",
    "Some contacts have two different handle_ids, one for SMS and one for iMessage and this does get tangled sometimes, that's why I need to do this update on the contact info level and not the handle_id level. The two contacts will have the same info but different handles\n"
   ]
  },
  {
   "cell_type": "code",
   "execution_count": 22,
   "id": "3861ba7c-2f41-4a0e-b852-c7343df561d3",
   "metadata": {},
   "outputs": [],
   "source": [
    "df_messages_trimmed.loc[:, 'updated_contact_info'] = df_messages_trimmed.apply(lambda x: hp.update_contact_info(x['contact_info'], x['chat_members_contact_info'], x['message_id']), axis=1)\n"
   ]
  },
  {
   "cell_type": "markdown",
   "id": "d583e3e0-4ee7-4324-b369-2cca90e3c1a9",
   "metadata": {},
   "source": [
    "# 5. Contact grouping and organization: Transform phone numbers and email into names for easier readability"
   ]
  },
  {
   "cell_type": "markdown",
   "id": "c52a6f0e-7def-4c1c-9f35-2c7c31e80d6a",
   "metadata": {},
   "source": [
    "When doing exploration and analysis, working with the phone number can be difficult to immediately remember which phone number is who.\n",
    "To solve this issue and make the analysis and exploration more readable we can create a mapping between the phone number to an actual name.\n",
    "\n",
    "This is also needed because sometimes the same person can message you from their phone number and their email - these will be different handle_ids in Apple's dataset and will be considered two different people. \n",
    "Doing this step allows us to gather all the messages sent from the same person across phone number and email, so the analysis is more accurate."
   ]
  },
  {
   "cell_type": "code",
   "execution_count": 23,
   "id": "52b8664c-b781-400a-a7af-3006199d3c85",
   "metadata": {},
   "outputs": [],
   "source": [
    "contact_grouping = {'+1234567788':'Jane Doe',\n",
    "                   'example@gmail.com':'Jane Doe', # note here that you can assign multiple contact information to the same person\n",
    "                   'email@yahoo.com' : 'John Doe',\n",
    "\n",
    "                   }\n",
    "\n",
    "\n",
    "df_messages = pd.merge(df_messages_trimmed, pd.DataFrame(list(contact_grouping.items()), columns=['updated_contact_info', 'name']),\\\n",
    "                       on='updated_contact_info', how='left')\n",
    "\n",
    "# for messages that don't have a contact name assigned, just use the phone number/email as the name.\n",
    "df_messages['name'] = df_messages['name'].fillna(df_messages['updated_contact_info'])\n"
   ]
  },
  {
   "cell_type": "code",
   "execution_count": null,
   "id": "fe1de2ad-549b-4e3c-80c3-1d6af161393b",
   "metadata": {},
   "outputs": [],
   "source": [
    "# List of Top-10 people you have exchanged the most messages with.\n",
    "df_messages.groupby('name').size().sort_values(ascending=False)[:10]"
   ]
  },
  {
   "cell_type": "markdown",
   "id": "a7b74792-189e-403c-be78-c08079ff57ec",
   "metadata": {},
   "source": [
    "# 6. Add analysis friendly columns"
   ]
  },
  {
   "cell_type": "markdown",
   "id": "d6c4d1e9-932e-418b-bb94-c31672b1ca3c",
   "metadata": {},
   "source": [
    "Finally, to make the analysis easier, I add date related columns here. "
   ]
  },
  {
   "cell_type": "code",
   "execution_count": 25,
   "id": "60830a41-109c-4132-a967-df6336c26348",
   "metadata": {},
   "outputs": [],
   "source": [
    "df_messages['timestamp'] = df_messages['date_utc'].apply(lambda x: pd.Timestamp(x))\n",
    "df_messages['date'] = df_messages['timestamp'].apply(lambda x: x.date())\n",
    "df_messages['month'] = df_messages['timestamp'].apply(lambda x: int(x.month))\n",
    "df_messages['year'] = df_messages['timestamp'].apply(lambda x: int(x.year))\n"
   ]
  },
  {
   "cell_type": "code",
   "execution_count": null,
   "id": "5de520e7-d59a-4240-a18b-c249178a1c63",
   "metadata": {},
   "outputs": [],
   "source": [
    "df_messages.head(2)"
   ]
  },
  {
   "cell_type": "markdown",
   "id": "5f851f21-487e-40fc-9587-dbd98b141133",
   "metadata": {},
   "source": [
    "### see the entire history of your messages with someone"
   ]
  },
  {
   "cell_type": "code",
   "execution_count": null,
   "id": "20e368ba-286c-4e49-8b0f-9c1942b18804",
   "metadata": {},
   "outputs": [],
   "source": [
    "contact_info='123456788'\n",
    "df_messages.loc[df_messages['contact_info']==contact_info].sort_values(by='date_utc')\n",
    "\n",
    "# if you assigned names to phone numbers you can use that field as well \n",
    "# name='Jane Doe'\n",
    "# df_messages.loc[df_messages['name']==name].sort_values(by='date_utc')\n"
   ]
  },
  {
   "cell_type": "markdown",
   "id": "37ec3c3f-5e48-4f09-9c41-9b736df9537f",
   "metadata": {},
   "source": [
    "### 7. Save the dataset for future analysis."
   ]
  },
  {
   "cell_type": "code",
   "execution_count": 28,
   "id": "121db480-0253-4f74-b9ea-f353897ead33",
   "metadata": {},
   "outputs": [],
   "source": [
    "# removing the special character '\\r' from the text of the messages as they interfere with the to_csv command.\n",
    "df_messages['text'] = df_messages['text'].str.replace('\\r', '')"
   ]
  },
  {
   "cell_type": "code",
   "execution_count": 29,
   "id": "79208608-e689-4206-ae92-f771f38d4767",
   "metadata": {},
   "outputs": [],
   "source": [
    "df_messages.to_csv(\"../data/df_messages.csv\", index=False)"
   ]
  }
 ],
 "metadata": {
  "kernelspec": {
   "display_name": "Python 3 (ipykernel)",
   "language": "python",
   "name": "python3"
  },
  "language_info": {
   "codemirror_mode": {
    "name": "ipython",
    "version": 3
   },
   "file_extension": ".py",
   "mimetype": "text/x-python",
   "name": "python",
   "nbconvert_exporter": "python",
   "pygments_lexer": "ipython3",
   "version": "3.10.0"
  }
 },
 "nbformat": 4,
 "nbformat_minor": 5
}
