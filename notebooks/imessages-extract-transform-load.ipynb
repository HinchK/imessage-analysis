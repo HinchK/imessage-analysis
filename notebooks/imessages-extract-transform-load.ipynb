{
 "cells": [
  {
   "cell_type": "code",
   "execution_count": 1,
   "id": "0f8d88a1-1fac-4667-a8b7-52ceaddc3fab",
   "metadata": {},
   "outputs": [],
   "source": [
    "import sqlite3\n",
    "import pandas as pd\n",
    "from datetime import datetime\n",
    "from datetime import date\n",
    "import matplotlib.pyplot as plt\n",
    "%matplotlib inline\n",
    "\n",
    "import importlib\n",
    "import sys\n",
    "sys.path.append('../src/')\n",
    "import helper as hp"
   ]
  },
  {
   "cell_type": "markdown",
   "id": "a39303b7-8e0b-41d4-8e48-7b72157277b1",
   "metadata": {},
   "source": [
    "Version 3.1\n",
    "April 2024"
   ]
  },
  {
   "cell_type": "markdown",
   "id": "9760fecf-f5a4-430d-9f4f-740a2c708a00",
   "metadata": {},
   "source": [
    "# 1. Connect to the database and load the data tables"
   ]
  },
  {
   "cell_type": "code",
   "execution_count": 2,
   "id": "24440f80-308e-4a77-b81a-94266f74c10b",
   "metadata": {},
   "outputs": [
    {
     "name": "stdout",
     "output_type": "stream",
     "text": [
      "('_SqliteDatabaseProperties',)\n",
      "('chat_message_join',)\n",
      "('deleted_messages',)\n",
      "('sqlite_sequence',)\n",
      "('chat_recoverable_message_join',)\n",
      "('handle',)\n",
      "('sync_deleted_chats',)\n",
      "('kvtable',)\n",
      "('sync_deleted_attachments',)\n",
      "('sync_deleted_messages',)\n",
      "('unsynced_removed_recoverable_messages',)\n",
      "('recoverable_message_part',)\n",
      "('chat_handle_join',)\n",
      "('message_attachment_join',)\n",
      "('message_processing_task',)\n",
      "('message',)\n",
      "('chat',)\n",
      "('attachment',)\n",
      "('sqlite_stat1',)\n"
     ]
    }
   ],
   "source": [
    "# find your chat.db and establish a connection\n",
    "# conn = sqlite3.connect('/Users/<YOUR MAC USERNAME>/Library/Messages/chat.db')\n",
    "conn = sqlite3.connect('/Users/yorgos/Desktop/chat.db')\n",
    "cur = conn.cursor()\n",
    "\n",
    "# query the database to get all the table names\n",
    "cur.execute(\" select name from sqlite_master where type = 'table' \")\n",
    "\n",
    "# you can see all the tables included in the database here.\n",
    "for name in cur.fetchall():\n",
    "    print(name)"
   ]
  },
  {
   "cell_type": "markdown",
   "id": "cfcf8897-27a9-4e05-919a-86a37b667f6b",
   "metadata": {},
   "source": [
    "# 2. Query and Load the data tables we need"
   ]
  },
  {
   "cell_type": "code",
   "execution_count": 3,
   "id": "4f42c4cc-3b55-426a-8fff-6062f4150b95",
   "metadata": {},
   "outputs": [],
   "source": [
    "# create pandas dataframes with the tables we need. \n",
    "\n",
    "## Mac OSX versions below High Sierra\n",
    "#messages = pd.read_sql_query('''select *, datetime(date + strftime(\"%s\", \"2001-01-01\") ,\"unixepoch\",\"localtime\")  as date_utc from message''', conn) \n",
    "\n",
    "## High Sierra and above\n",
    "# this is the table with all the messages.\n",
    "messages = pd.read_sql_query('''select *, datetime(date/1000000000 + strftime(\"%s\", \"2001-01-01\") ,\"unixepoch\",\"localtime\")  as date_utc from message ORDER BY date DESC''', conn) \n",
    "\n",
    "# handles and contact info\n",
    "handles = pd.read_sql_query(\"select * from handle\", conn)\n",
    "\n",
    "# table mapping each message_id to its chat_id\n",
    "chat_message_joins = pd.read_sql_query(\"select * from chat_message_join\", conn)\n",
    "\n",
    "# table mapping each chat_id to the handles that are part of that chat.\n",
    "chat_handle_join = pd.read_sql_query(\"select * from chat_handle_join\", conn)"
   ]
  },
  {
   "cell_type": "code",
   "execution_count": 4,
   "id": "f1f9cd04-9d35-4f29-9421-d98e5a2aad77",
   "metadata": {},
   "outputs": [],
   "source": [
    "# renaming some fields for better code readability\n",
    "messages.rename(columns={'ROWID':'message_id'}, inplace=True)\n",
    "handles.rename(columns = {'ROWID' : 'handle_id'}, inplace=True)\n",
    "handles.rename(columns = {'id' : 'contact_info'}, inplace=True)"
   ]
  },
  {
   "cell_type": "markdown",
   "id": "9a3702e6-a69a-40ae-8c8c-01236f34359c",
   "metadata": {},
   "source": [
    "# 3. Edit and add information to the datasets"
   ]
  },
  {
   "cell_type": "code",
   "execution_count": 5,
   "id": "2ec58840-4d5c-49d4-b89d-897b23fb2357",
   "metadata": {},
   "outputs": [],
   "source": [
    "# add the chat_id for each message_id\n",
    "messages = pd.merge(messages, chat_message_joins, how='left', on='message_id')"
   ]
  },
  {
   "cell_type": "code",
   "execution_count": 6,
   "id": "9ef8fb38-141a-4668-9258-fbd203c3ec6d",
   "metadata": {},
   "outputs": [],
   "source": [
    "# some messages have empty text field. I do my best and infer the text sent from a different field in the data.\n",
    "messages['inferred_text'] = messages['attributedBody'].apply(lambda x: hp.clean_text(x))"
   ]
  },
  {
   "cell_type": "code",
   "execution_count": 8,
   "id": "bda02025-fc62-4958-b88c-c06f6431b92a",
   "metadata": {},
   "outputs": [],
   "source": [
    "#Now combine the observed text and inferred_text columns into a holistic columns that captures all the text information we have.\n",
    "\n",
    "# create a composite row with the text value as it is when it is populated, and the inferred_text where 'text' is NULL.\n",
    "messages['text_combined'] = messages.apply(lambda row: row['inferred_text'] if pd.isnull(row['text']) else row['text'], axis=1)"
   ]
  },
  {
   "cell_type": "markdown",
   "id": "4e8309ce-5d2a-4d6d-b9f2-60394a52b2de",
   "metadata": {},
   "source": [
    "#### This following step will take 3-5 minutes"
   ]
  },
  {
   "cell_type": "code",
   "execution_count": 9,
   "id": "ef8dd425-50b8-47b9-b681-355f058fdd19",
   "metadata": {},
   "outputs": [],
   "source": [
    "handle_lists = []\n",
    "contact_lists = []\n",
    "\n",
    "for i in range(len(messages)):\n",
    "    chat_id = messages.iloc[i]['chat_id']\n",
    "    handle_list, contact_list = hp.get_handle_and_contact_list(chat_id, chat_handle_join, handles)\n",
    "    handle_lists.append(handle_list)\n",
    "    contact_lists.append(contact_list)\n",
    "    \n",
    "# for each message, get the handle_ids that were part of that chat\n",
    "messages['chat_members_handles'] = handle_lists\n",
    "\n",
    "# same thing as above, but get the actual contact info (phone number or email) instead of just the handle_id\n",
    "messages['chat_members_contact_info'] = contact_lists\n"
   ]
  },
  {
   "cell_type": "code",
   "execution_count": 10,
   "id": "80e8eb5e-e83f-4165-baaf-a2a3374fe61d",
   "metadata": {},
   "outputs": [],
   "source": [
    "# create a field with the chat size of each message. This is mostly for analytics purporses\n",
    "messages['chat_size'] = messages['chat_members_handles'].apply(lambda x: hp.get_chat_size(x))"
   ]
  },
  {
   "cell_type": "code",
   "execution_count": 11,
   "id": "35cd4231-5e22-4183-a669-55ec1ebb2429",
   "metadata": {},
   "outputs": [],
   "source": [
    "# get the contact info for the handle_id column, i.e., who sent or received the message.\n",
    "messages['contact_info'] = messages['handle_id'].apply(lambda x: hp.convert_handle_id_to_contact_info(x, handles))"
   ]
  },
  {
   "cell_type": "code",
   "execution_count": 12,
   "id": "ba16e5ff-d53e-468f-a43f-1841095255ce",
   "metadata": {},
   "outputs": [],
   "source": [
    "# grab only the columns we need, for easier exploration and readability of the dataset.\n",
    "\n",
    "columns = ['message_id', 'is_from_me', 'text_combined', 'text',  'inferred_text', 'date_utc', 'handle_id', 'contact_info','chat_id', \n",
    "          'chat_members_contact_info', 'chat_size', 'chat_members_handles',\n",
    "           'attributedBody']\n",
    "df_messages_trimmed = messages[columns].copy()"
   ]
  },
  {
   "cell_type": "code",
   "execution_count": 13,
   "id": "22477287-22e1-4e01-bcf1-3a202708859d",
   "metadata": {},
   "outputs": [
    {
     "data": {
      "text/html": [
       "<div>\n",
       "<style scoped>\n",
       "    .dataframe tbody tr th:only-of-type {\n",
       "        vertical-align: middle;\n",
       "    }\n",
       "\n",
       "    .dataframe tbody tr th {\n",
       "        vertical-align: top;\n",
       "    }\n",
       "\n",
       "    .dataframe thead th {\n",
       "        text-align: right;\n",
       "    }\n",
       "</style>\n",
       "<table border=\"1\" class=\"dataframe\">\n",
       "  <thead>\n",
       "    <tr style=\"text-align: right;\">\n",
       "      <th></th>\n",
       "      <th>message_id</th>\n",
       "      <th>is_from_me</th>\n",
       "      <th>text_combined</th>\n",
       "      <th>text</th>\n",
       "      <th>inferred_text</th>\n",
       "      <th>date_utc</th>\n",
       "      <th>handle_id</th>\n",
       "      <th>contact_info</th>\n",
       "      <th>chat_id</th>\n",
       "      <th>chat_members_contact_info</th>\n",
       "      <th>chat_size</th>\n",
       "      <th>chat_members_handles</th>\n",
       "      <th>attributedBody</th>\n",
       "    </tr>\n",
       "  </thead>\n",
       "  <tbody>\n",
       "    <tr>\n",
       "      <th>0</th>\n",
       "      <td>370197</td>\n",
       "      <td>1</td>\n",
       "      <td>Don’t forget us when you’re at the top</td>\n",
       "      <td>Don’t forget us when you’re at the top</td>\n",
       "      <td>Donâ  t forget us when youâ  re at the top    &amp;</td>\n",
       "      <td>2024-04-20 09:20:44</td>\n",
       "      <td>0</td>\n",
       "      <td>None</td>\n",
       "      <td>NaN</td>\n",
       "      <td>[]</td>\n",
       "      <td>0</td>\n",
       "      <td>[]</td>\n",
       "      <td>b'\\x04\\x0bstreamtyped\\x81\\xe8\\x03\\x84\\x01@\\x84...</td>\n",
       "    </tr>\n",
       "    <tr>\n",
       "      <th>1</th>\n",
       "      <td>370196</td>\n",
       "      <td>1</td>\n",
       "      <td>Congrats my dude, donâ</td>\n",
       "      <td>None</td>\n",
       "      <td>Congrats my dude, donâ</td>\n",
       "      <td>2024-04-20 09:20:35</td>\n",
       "      <td>72</td>\n",
       "      <td>+16469209965</td>\n",
       "      <td>84.0</td>\n",
       "      <td>[+16469209965]</td>\n",
       "      <td>1</td>\n",
       "      <td>[72]</td>\n",
       "      <td>b'\\x04\\x0bstreamtyped\\x81\\xe8\\x03\\x84\\x01@\\x84...</td>\n",
       "    </tr>\n",
       "  </tbody>\n",
       "</table>\n",
       "</div>"
      ],
      "text/plain": [
       "   message_id  is_from_me                           text_combined  \\\n",
       "0      370197           1  Don’t forget us when you’re at the top   \n",
       "1      370196           1             Congrats my dude, donâ        \n",
       "\n",
       "                                     text  \\\n",
       "0  Don’t forget us when you’re at the top   \n",
       "1                                    None   \n",
       "\n",
       "                                     inferred_text             date_utc  \\\n",
       "0  Donâ  t forget us when youâ  re at the top    &  2024-04-20 09:20:44   \n",
       "1                      Congrats my dude, donâ       2024-04-20 09:20:35   \n",
       "\n",
       "   handle_id  contact_info  chat_id chat_members_contact_info  chat_size  \\\n",
       "0          0          None      NaN                        []          0   \n",
       "1         72  +16469209965     84.0            [+16469209965]          1   \n",
       "\n",
       "  chat_members_handles                                     attributedBody  \n",
       "0                   []  b'\\x04\\x0bstreamtyped\\x81\\xe8\\x03\\x84\\x01@\\x84...  \n",
       "1                 [72]  b'\\x04\\x0bstreamtyped\\x81\\xe8\\x03\\x84\\x01@\\x84...  "
      ]
     },
     "execution_count": 13,
     "metadata": {},
     "output_type": "execute_result"
    }
   ],
   "source": [
    "# quick look at the dataframe\n",
    "df_messages_trimmed.head(2)"
   ]
  },
  {
   "cell_type": "markdown",
   "id": "ca17e128-b6c8-4353-b092-b5d98d0bee2e",
   "metadata": {},
   "source": [
    "# 4. One last fix for sent messages: Fix the field with the recipient of the message."
   ]
  },
  {
   "cell_type": "markdown",
   "id": "fd8b4436-191c-4b0b-9a83-6faa675188b6",
   "metadata": {},
   "source": [
    "When the handle_id = 0 if the chat type is 1-1, then assign the contact info that we got from message_id -> chat_id -> handle_id -> contact_info into the contact_info.\n",
    "\n",
    "Some contacts have two different handle_ids, one for SMS and one for iMessage and this does get tangled sometimes, that's why I need to do this update on the contact info level and not the handle_id level. The two contacts will have the same info but different handles\n"
   ]
  },
  {
   "cell_type": "code",
   "execution_count": 14,
   "id": "3861ba7c-2f41-4a0e-b852-c7343df561d3",
   "metadata": {},
   "outputs": [],
   "source": [
    "df_messages_trimmed.loc[:, 'updated_contact_info'] = df_messages_trimmed.apply(lambda x: hp.update_contact_info(x['contact_info'], x['chat_members_contact_info'], x['message_id']), axis=1)\n"
   ]
  },
  {
   "cell_type": "markdown",
   "id": "d583e3e0-4ee7-4324-b369-2cca90e3c1a9",
   "metadata": {},
   "source": [
    "# 5. Contact grouping and organization: Transform phone numbers and email into names for easier readability"
   ]
  },
  {
   "cell_type": "markdown",
   "id": "c52a6f0e-7def-4c1c-9f35-2c7c31e80d6a",
   "metadata": {},
   "source": [
    "When doing exploration and analysis, working with the phone number can be difficult to immediately remember which phone number is who.\n",
    "To solve this issue and make the analysis and exploration more readable we can create a mapping between the phone number to an actual name.\n",
    "\n",
    "This is also needed because sometimes the same person can message you from their phone number and their email - these will be different handle_ids in Apple's dataset and will be considered two different people. \n",
    "Doing this step allows us to gather all the messages sent from the same person across phone number and email, so the analysis is more accurate."
   ]
  },
  {
   "cell_type": "code",
   "execution_count": 15,
   "id": "52b8664c-b781-400a-a7af-3006199d3c85",
   "metadata": {},
   "outputs": [],
   "source": [
    "contact_grouping = {'+1234567788':'Jane Doe',\n",
    "                   'example@gmail.com':'Jane Doe', # note here that you can assign multiple contact information to the same person\n",
    "                   'email@yahoo.com' : 'John Doe',\n",
    "\n",
    "                   }\n",
    "\n",
    "\n",
    "df_messages = pd.merge(df_messages_trimmed, pd.DataFrame(list(contact_grouping.items()), columns=['updated_contact_info', 'name']),\\\n",
    "                       on='updated_contact_info', how='left')\n",
    "\n",
    "# for messages that don't have a contact name assigned, just use the phone number/email as the name.\n",
    "df_messages['name'] = df_messages['name'].fillna(df_messages['updated_contact_info'])\n"
   ]
  },
  {
   "cell_type": "code",
   "execution_count": 16,
   "id": "fe1de2ad-549b-4e3c-80c3-1d6af161393b",
   "metadata": {},
   "outputs": [
    {
     "data": {
      "text/plain": [
       "name\n",
       "+19317973385            94975\n",
       "group-chat              89291\n",
       "+15183898676            59902\n",
       "anthiask@hotmail.com    23136\n",
       "+306932384392           15128\n",
       "+16518959121             9066\n",
       "+13057942891             9038\n",
       "+16309159447             6796\n",
       "+15044536827             5383\n",
       "+35799763166             2818\n",
       "dtype: int64"
      ]
     },
     "execution_count": 16,
     "metadata": {},
     "output_type": "execute_result"
    }
   ],
   "source": [
    "# List of Top-10 people you have exchanged the most messages with.\n",
    "df_messages.groupby('name').size().sort_values(ascending=False)[:10]"
   ]
  },
  {
   "cell_type": "markdown",
   "id": "a7b74792-189e-403c-be78-c08079ff57ec",
   "metadata": {},
   "source": [
    "# 6. Add analysis friendly columns"
   ]
  },
  {
   "cell_type": "markdown",
   "id": "d6c4d1e9-932e-418b-bb94-c31672b1ca3c",
   "metadata": {},
   "source": [
    "Finally, to make the analysis easier, I add date related columns here. "
   ]
  },
  {
   "cell_type": "code",
   "execution_count": 17,
   "id": "60830a41-109c-4132-a967-df6336c26348",
   "metadata": {},
   "outputs": [],
   "source": [
    "df_messages['timestamp'] = df_messages['date_utc'].apply(lambda x: pd.Timestamp(x))\n",
    "df_messages['date'] = df_messages['timestamp'].apply(lambda x: x.date())\n",
    "df_messages['month'] = df_messages['timestamp'].apply(lambda x: int(x.month))\n",
    "df_messages['year'] = df_messages['timestamp'].apply(lambda x: int(x.year))\n"
   ]
  },
  {
   "cell_type": "code",
   "execution_count": 18,
   "id": "5de520e7-d59a-4240-a18b-c249178a1c63",
   "metadata": {},
   "outputs": [
    {
     "data": {
      "text/html": [
       "<div>\n",
       "<style scoped>\n",
       "    .dataframe tbody tr th:only-of-type {\n",
       "        vertical-align: middle;\n",
       "    }\n",
       "\n",
       "    .dataframe tbody tr th {\n",
       "        vertical-align: top;\n",
       "    }\n",
       "\n",
       "    .dataframe thead th {\n",
       "        text-align: right;\n",
       "    }\n",
       "</style>\n",
       "<table border=\"1\" class=\"dataframe\">\n",
       "  <thead>\n",
       "    <tr style=\"text-align: right;\">\n",
       "      <th></th>\n",
       "      <th>message_id</th>\n",
       "      <th>is_from_me</th>\n",
       "      <th>text_combined</th>\n",
       "      <th>text</th>\n",
       "      <th>inferred_text</th>\n",
       "      <th>date_utc</th>\n",
       "      <th>handle_id</th>\n",
       "      <th>contact_info</th>\n",
       "      <th>chat_id</th>\n",
       "      <th>chat_members_contact_info</th>\n",
       "      <th>chat_size</th>\n",
       "      <th>chat_members_handles</th>\n",
       "      <th>attributedBody</th>\n",
       "      <th>updated_contact_info</th>\n",
       "      <th>name</th>\n",
       "      <th>timestamp</th>\n",
       "      <th>date</th>\n",
       "      <th>month</th>\n",
       "      <th>year</th>\n",
       "    </tr>\n",
       "  </thead>\n",
       "  <tbody>\n",
       "    <tr>\n",
       "      <th>0</th>\n",
       "      <td>370197</td>\n",
       "      <td>1</td>\n",
       "      <td>Don’t forget us when you’re at the top</td>\n",
       "      <td>Don’t forget us when you’re at the top</td>\n",
       "      <td>Donâ  t forget us when youâ  re at the top    &amp;</td>\n",
       "      <td>2024-04-20 09:20:44</td>\n",
       "      <td>0</td>\n",
       "      <td>None</td>\n",
       "      <td>NaN</td>\n",
       "      <td>[]</td>\n",
       "      <td>0</td>\n",
       "      <td>[]</td>\n",
       "      <td>b'\\x04\\x0bstreamtyped\\x81\\xe8\\x03\\x84\\x01@\\x84...</td>\n",
       "      <td>group-chat</td>\n",
       "      <td>group-chat</td>\n",
       "      <td>2024-04-20 09:20:44</td>\n",
       "      <td>2024-04-20</td>\n",
       "      <td>4</td>\n",
       "      <td>2024</td>\n",
       "    </tr>\n",
       "    <tr>\n",
       "      <th>1</th>\n",
       "      <td>370196</td>\n",
       "      <td>1</td>\n",
       "      <td>Congrats my dude, donâ</td>\n",
       "      <td>None</td>\n",
       "      <td>Congrats my dude, donâ</td>\n",
       "      <td>2024-04-20 09:20:35</td>\n",
       "      <td>72</td>\n",
       "      <td>+16469209965</td>\n",
       "      <td>84.0</td>\n",
       "      <td>[+16469209965]</td>\n",
       "      <td>1</td>\n",
       "      <td>[72]</td>\n",
       "      <td>b'\\x04\\x0bstreamtyped\\x81\\xe8\\x03\\x84\\x01@\\x84...</td>\n",
       "      <td>+16469209965</td>\n",
       "      <td>+16469209965</td>\n",
       "      <td>2024-04-20 09:20:35</td>\n",
       "      <td>2024-04-20</td>\n",
       "      <td>4</td>\n",
       "      <td>2024</td>\n",
       "    </tr>\n",
       "  </tbody>\n",
       "</table>\n",
       "</div>"
      ],
      "text/plain": [
       "   message_id  is_from_me                           text_combined  \\\n",
       "0      370197           1  Don’t forget us when you’re at the top   \n",
       "1      370196           1             Congrats my dude, donâ        \n",
       "\n",
       "                                     text  \\\n",
       "0  Don’t forget us when you’re at the top   \n",
       "1                                    None   \n",
       "\n",
       "                                     inferred_text             date_utc  \\\n",
       "0  Donâ  t forget us when youâ  re at the top    &  2024-04-20 09:20:44   \n",
       "1                      Congrats my dude, donâ       2024-04-20 09:20:35   \n",
       "\n",
       "   handle_id  contact_info  chat_id chat_members_contact_info  chat_size  \\\n",
       "0          0          None      NaN                        []          0   \n",
       "1         72  +16469209965     84.0            [+16469209965]          1   \n",
       "\n",
       "  chat_members_handles                                     attributedBody  \\\n",
       "0                   []  b'\\x04\\x0bstreamtyped\\x81\\xe8\\x03\\x84\\x01@\\x84...   \n",
       "1                 [72]  b'\\x04\\x0bstreamtyped\\x81\\xe8\\x03\\x84\\x01@\\x84...   \n",
       "\n",
       "  updated_contact_info          name           timestamp        date  month  \\\n",
       "0           group-chat    group-chat 2024-04-20 09:20:44  2024-04-20      4   \n",
       "1         +16469209965  +16469209965 2024-04-20 09:20:35  2024-04-20      4   \n",
       "\n",
       "   year  \n",
       "0  2024  \n",
       "1  2024  "
      ]
     },
     "execution_count": 18,
     "metadata": {},
     "output_type": "execute_result"
    }
   ],
   "source": [
    "df_messages.head(2)"
   ]
  },
  {
   "cell_type": "markdown",
   "id": "5f851f21-487e-40fc-9587-dbd98b141133",
   "metadata": {},
   "source": [
    "### see the entire history of your messages with someone"
   ]
  },
  {
   "cell_type": "code",
   "execution_count": 19,
   "id": "20e368ba-286c-4e49-8b0f-9c1942b18804",
   "metadata": {},
   "outputs": [
    {
     "data": {
      "text/html": [
       "<div>\n",
       "<style scoped>\n",
       "    .dataframe tbody tr th:only-of-type {\n",
       "        vertical-align: middle;\n",
       "    }\n",
       "\n",
       "    .dataframe tbody tr th {\n",
       "        vertical-align: top;\n",
       "    }\n",
       "\n",
       "    .dataframe thead th {\n",
       "        text-align: right;\n",
       "    }\n",
       "</style>\n",
       "<table border=\"1\" class=\"dataframe\">\n",
       "  <thead>\n",
       "    <tr style=\"text-align: right;\">\n",
       "      <th></th>\n",
       "      <th>message_id</th>\n",
       "      <th>is_from_me</th>\n",
       "      <th>text_combined</th>\n",
       "      <th>text</th>\n",
       "      <th>inferred_text</th>\n",
       "      <th>date_utc</th>\n",
       "      <th>handle_id</th>\n",
       "      <th>contact_info</th>\n",
       "      <th>chat_id</th>\n",
       "      <th>chat_members_contact_info</th>\n",
       "      <th>chat_size</th>\n",
       "      <th>chat_members_handles</th>\n",
       "      <th>attributedBody</th>\n",
       "      <th>updated_contact_info</th>\n",
       "      <th>name</th>\n",
       "      <th>timestamp</th>\n",
       "      <th>date</th>\n",
       "      <th>month</th>\n",
       "      <th>year</th>\n",
       "    </tr>\n",
       "  </thead>\n",
       "  <tbody>\n",
       "  </tbody>\n",
       "</table>\n",
       "</div>"
      ],
      "text/plain": [
       "Empty DataFrame\n",
       "Columns: [message_id, is_from_me, text_combined, text, inferred_text, date_utc, handle_id, contact_info, chat_id, chat_members_contact_info, chat_size, chat_members_handles, attributedBody, updated_contact_info, name, timestamp, date, month, year]\n",
       "Index: []"
      ]
     },
     "execution_count": 19,
     "metadata": {},
     "output_type": "execute_result"
    }
   ],
   "source": [
    "contact_info='123456788'\n",
    "df_messages.loc[df_messages['contact_info']==contact_info].sort_values(by='date_utc')\n",
    "\n",
    "# if you assigned names to phone numbers you can use that field as well \n",
    "# name='Jane Doe'\n",
    "# df_messages.loc[df_messages['name']==name].sort_values(by='date_utc')\n"
   ]
  },
  {
   "cell_type": "markdown",
   "id": "5f25966d-3a95-4212-9450-28d4fac89157",
   "metadata": {},
   "source": [
    "### 7 Detect messages that are iMessage Reactions (aka Tapback)."
   ]
  },
  {
   "cell_type": "markdown",
   "id": "8de3274b-cd4b-4386-af77-5ade6eda57a1",
   "metadata": {},
   "source": [
    "iMessage Reactions were introduced in iOS 10, launched September 13th, 2016.\n",
    "\n",
    "https://en.wikipedia.org/wiki/IOS_10\n",
    "\n",
    "https://support.apple.com/guide/messages/use-tapbacks-icht504f698a/mac"
   ]
  },
  {
   "cell_type": "code",
   "execution_count": 20,
   "id": "36b3cde4-8e8d-4056-85f0-bd5579bf915e",
   "metadata": {},
   "outputs": [],
   "source": [
    "# Note that this code detects only Reactions from English or Greek language settings. \n",
    "# You can modify to detect the reactions in other languages.\n",
    "\n",
    "df_messages['reaction'] = df_messages['text_combined'].apply(lambda x: hp.detect_reaction(x))"
   ]
  },
  {
   "cell_type": "code",
   "execution_count": 21,
   "id": "8a523897-a8db-48f1-bf7c-251cd0723c44",
   "metadata": {},
   "outputs": [
    {
     "data": {
      "text/plain": [
       "reaction\n",
       "0             354615\n",
       "Disliked         174\n",
       "Emphasized      2107\n",
       "Laughed at      2677\n",
       "Liked           2331\n",
       "Loved           8292\n",
       "dtype: int64"
      ]
     },
     "execution_count": 21,
     "metadata": {},
     "output_type": "execute_result"
    }
   ],
   "source": [
    "ind = df_messages['reaction']!=0\n",
    "df_messages.groupby('reaction').size()"
   ]
  },
  {
   "cell_type": "markdown",
   "id": "37ec3c3f-5e48-4f09-9c41-9b736df9537f",
   "metadata": {},
   "source": [
    "### 8. Save the dataset for future analysis."
   ]
  },
  {
   "cell_type": "code",
   "execution_count": 19,
   "id": "121db480-0253-4f74-b9ea-f353897ead33",
   "metadata": {},
   "outputs": [],
   "source": [
    "# removing the special character '\\r' from the text of the messages as they interfere with the to_csv command.\n",
    "df_messages['text'] = df_messages['text'].str.replace('\\r', '')"
   ]
  },
  {
   "cell_type": "code",
   "execution_count": 20,
   "id": "79208608-e689-4206-ae92-f771f38d4767",
   "metadata": {},
   "outputs": [],
   "source": [
    "df_messages.to_csv(\"../data/df_messages.csv\", index=False)"
   ]
  },
  {
   "cell_type": "code",
   "execution_count": null,
   "id": "49ce51eb-2c64-42eb-9471-dee62c41e0e9",
   "metadata": {},
   "outputs": [],
   "source": []
  }
 ],
 "metadata": {
  "kernelspec": {
   "display_name": "Python 3 (ipykernel)",
   "language": "python",
   "name": "python3"
  },
  "language_info": {
   "codemirror_mode": {
    "name": "ipython",
    "version": 3
   },
   "file_extension": ".py",
   "mimetype": "text/x-python",
   "name": "python",
   "nbconvert_exporter": "python",
   "pygments_lexer": "ipython3",
   "version": "3.10.0"
  }
 },
 "nbformat": 4,
 "nbformat_minor": 5
}
